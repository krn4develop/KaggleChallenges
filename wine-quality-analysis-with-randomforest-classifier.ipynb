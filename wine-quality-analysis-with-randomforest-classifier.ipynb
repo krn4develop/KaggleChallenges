{
 "cells": [
  {
   "cell_type": "code",
   "execution_count": 1,
   "id": "aggregate-share",
   "metadata": {
    "_cell_guid": "b1076dfc-b9ad-4769-8c92-a6c4dae69d19",
    "_uuid": "8f2839f25d086af736a60e9eeb907d3b93b6e0e5",
    "execution": {
     "iopub.execute_input": "2021-04-04T15:50:41.586050Z",
     "iopub.status.busy": "2021-04-04T15:50:41.585260Z",
     "iopub.status.idle": "2021-04-04T15:50:42.662431Z",
     "shell.execute_reply": "2021-04-04T15:50:42.661671Z"
    },
    "papermill": {
     "duration": 1.102688,
     "end_time": "2021-04-04T15:50:42.662609",
     "exception": false,
     "start_time": "2021-04-04T15:50:41.559921",
     "status": "completed"
    },
    "tags": []
   },
   "outputs": [
    {
     "name": "stdout",
     "output_type": "stream",
     "text": [
      "/kaggle/input/red-wine-quality-cortez-et-al-2009/winequality-red.csv\n"
     ]
    }
   ],
   "source": [
    "# This Python 3 environment comes with many helpful analytics libraries installed\n",
    "# It is defined by the kaggle/python Docker image: https://github.com/kaggle/docker-python\n",
    "# For example, here's several helpful packages to load\n",
    "\n",
    "import warnings\n",
    "warnings.filterwarnings('ignore')\n",
    "import numpy as np # linear algebra\n",
    "import pandas as pd # data processing, CSV file I/O (e.g. pd.read_csv)\n",
    "import matplotlib.pyplot as plt\n",
    "import seaborn as sns\n",
    "from sklearn.preprocessing import StandardScaler, LabelEncoder\n",
    "\n",
    "# Input data files are available in the read-only \"../input/\" directory\n",
    "# For example, running this (by clicking run or pressing Shift+Enter) will list all files under the input directory\n",
    "\n",
    "import os\n",
    "for dirname, _, filenames in os.walk('/kaggle/input'):\n",
    "    for filename in filenames:\n",
    "        print(os.path.join(dirname, filename))\n",
    "\n",
    "# You can write up to 20GB to the current directory (/kaggle/working/) that gets preserved as output when you create a version using \"Save & Run All\" \n",
    "# You can also write temporary files to /kaggle/temp/, but they won't be saved outside of the current session"
   ]
  },
  {
   "cell_type": "code",
   "execution_count": 2,
   "id": "sapphire-estate",
   "metadata": {
    "execution": {
     "iopub.execute_input": "2021-04-04T15:50:42.702319Z",
     "iopub.status.busy": "2021-04-04T15:50:42.701510Z",
     "iopub.status.idle": "2021-04-04T15:50:42.754676Z",
     "shell.execute_reply": "2021-04-04T15:50:42.754060Z"
    },
    "papermill": {
     "duration": 0.074374,
     "end_time": "2021-04-04T15:50:42.754812",
     "exception": false,
     "start_time": "2021-04-04T15:50:42.680438",
     "status": "completed"
    },
    "tags": []
   },
   "outputs": [
    {
     "data": {
      "text/html": [
       "<div>\n",
       "<style scoped>\n",
       "    .dataframe tbody tr th:only-of-type {\n",
       "        vertical-align: middle;\n",
       "    }\n",
       "\n",
       "    .dataframe tbody tr th {\n",
       "        vertical-align: top;\n",
       "    }\n",
       "\n",
       "    .dataframe thead th {\n",
       "        text-align: right;\n",
       "    }\n",
       "</style>\n",
       "<table border=\"1\" class=\"dataframe\">\n",
       "  <thead>\n",
       "    <tr style=\"text-align: right;\">\n",
       "      <th></th>\n",
       "      <th>fixed acidity</th>\n",
       "      <th>volatile acidity</th>\n",
       "      <th>citric acid</th>\n",
       "      <th>residual sugar</th>\n",
       "      <th>chlorides</th>\n",
       "      <th>free sulfur dioxide</th>\n",
       "      <th>total sulfur dioxide</th>\n",
       "      <th>density</th>\n",
       "      <th>pH</th>\n",
       "      <th>sulphates</th>\n",
       "      <th>alcohol</th>\n",
       "      <th>quality</th>\n",
       "    </tr>\n",
       "  </thead>\n",
       "  <tbody>\n",
       "    <tr>\n",
       "      <th>0</th>\n",
       "      <td>7.4</td>\n",
       "      <td>0.70</td>\n",
       "      <td>0.00</td>\n",
       "      <td>1.9</td>\n",
       "      <td>0.076</td>\n",
       "      <td>11.0</td>\n",
       "      <td>34.0</td>\n",
       "      <td>0.9978</td>\n",
       "      <td>3.51</td>\n",
       "      <td>0.56</td>\n",
       "      <td>9.4</td>\n",
       "      <td>5</td>\n",
       "    </tr>\n",
       "    <tr>\n",
       "      <th>1</th>\n",
       "      <td>7.8</td>\n",
       "      <td>0.88</td>\n",
       "      <td>0.00</td>\n",
       "      <td>2.6</td>\n",
       "      <td>0.098</td>\n",
       "      <td>25.0</td>\n",
       "      <td>67.0</td>\n",
       "      <td>0.9968</td>\n",
       "      <td>3.20</td>\n",
       "      <td>0.68</td>\n",
       "      <td>9.8</td>\n",
       "      <td>5</td>\n",
       "    </tr>\n",
       "    <tr>\n",
       "      <th>2</th>\n",
       "      <td>7.8</td>\n",
       "      <td>0.76</td>\n",
       "      <td>0.04</td>\n",
       "      <td>2.3</td>\n",
       "      <td>0.092</td>\n",
       "      <td>15.0</td>\n",
       "      <td>54.0</td>\n",
       "      <td>0.9970</td>\n",
       "      <td>3.26</td>\n",
       "      <td>0.65</td>\n",
       "      <td>9.8</td>\n",
       "      <td>5</td>\n",
       "    </tr>\n",
       "    <tr>\n",
       "      <th>3</th>\n",
       "      <td>11.2</td>\n",
       "      <td>0.28</td>\n",
       "      <td>0.56</td>\n",
       "      <td>1.9</td>\n",
       "      <td>0.075</td>\n",
       "      <td>17.0</td>\n",
       "      <td>60.0</td>\n",
       "      <td>0.9980</td>\n",
       "      <td>3.16</td>\n",
       "      <td>0.58</td>\n",
       "      <td>9.8</td>\n",
       "      <td>6</td>\n",
       "    </tr>\n",
       "    <tr>\n",
       "      <th>4</th>\n",
       "      <td>7.4</td>\n",
       "      <td>0.70</td>\n",
       "      <td>0.00</td>\n",
       "      <td>1.9</td>\n",
       "      <td>0.076</td>\n",
       "      <td>11.0</td>\n",
       "      <td>34.0</td>\n",
       "      <td>0.9978</td>\n",
       "      <td>3.51</td>\n",
       "      <td>0.56</td>\n",
       "      <td>9.4</td>\n",
       "      <td>5</td>\n",
       "    </tr>\n",
       "  </tbody>\n",
       "</table>\n",
       "</div>"
      ],
      "text/plain": [
       "   fixed acidity  volatile acidity  citric acid  residual sugar  chlorides  \\\n",
       "0            7.4              0.70         0.00             1.9      0.076   \n",
       "1            7.8              0.88         0.00             2.6      0.098   \n",
       "2            7.8              0.76         0.04             2.3      0.092   \n",
       "3           11.2              0.28         0.56             1.9      0.075   \n",
       "4            7.4              0.70         0.00             1.9      0.076   \n",
       "\n",
       "   free sulfur dioxide  total sulfur dioxide  density    pH  sulphates  \\\n",
       "0                 11.0                  34.0   0.9978  3.51       0.56   \n",
       "1                 25.0                  67.0   0.9968  3.20       0.68   \n",
       "2                 15.0                  54.0   0.9970  3.26       0.65   \n",
       "3                 17.0                  60.0   0.9980  3.16       0.58   \n",
       "4                 11.0                  34.0   0.9978  3.51       0.56   \n",
       "\n",
       "   alcohol  quality  \n",
       "0      9.4        5  \n",
       "1      9.8        5  \n",
       "2      9.8        5  \n",
       "3      9.8        6  \n",
       "4      9.4        5  "
      ]
     },
     "execution_count": 2,
     "metadata": {},
     "output_type": "execute_result"
    }
   ],
   "source": [
    "df_wine = pd.read_csv('../input/red-wine-quality-cortez-et-al-2009/winequality-red.csv')\n",
    "df_wine.head()"
   ]
  },
  {
   "cell_type": "code",
   "execution_count": 3,
   "id": "southern-excitement",
   "metadata": {
    "execution": {
     "iopub.execute_input": "2021-04-04T15:50:42.800584Z",
     "iopub.status.busy": "2021-04-04T15:50:42.794780Z",
     "iopub.status.idle": "2021-04-04T15:50:42.811674Z",
     "shell.execute_reply": "2021-04-04T15:50:42.810822Z"
    },
    "papermill": {
     "duration": 0.040039,
     "end_time": "2021-04-04T15:50:42.811871",
     "exception": false,
     "start_time": "2021-04-04T15:50:42.771832",
     "status": "completed"
    },
    "tags": []
   },
   "outputs": [
    {
     "name": "stdout",
     "output_type": "stream",
     "text": [
      "<class 'pandas.core.frame.DataFrame'>\n",
      "RangeIndex: 1599 entries, 0 to 1598\n",
      "Data columns (total 12 columns):\n",
      " #   Column                Non-Null Count  Dtype  \n",
      "---  ------                --------------  -----  \n",
      " 0   fixed acidity         1599 non-null   float64\n",
      " 1   volatile acidity      1599 non-null   float64\n",
      " 2   citric acid           1599 non-null   float64\n",
      " 3   residual sugar        1599 non-null   float64\n",
      " 4   chlorides             1599 non-null   float64\n",
      " 5   free sulfur dioxide   1599 non-null   float64\n",
      " 6   total sulfur dioxide  1599 non-null   float64\n",
      " 7   density               1599 non-null   float64\n",
      " 8   pH                    1599 non-null   float64\n",
      " 9   sulphates             1599 non-null   float64\n",
      " 10  alcohol               1599 non-null   float64\n",
      " 11  quality               1599 non-null   int64  \n",
      "dtypes: float64(11), int64(1)\n",
      "memory usage: 150.0 KB\n"
     ]
    }
   ],
   "source": [
    "# no null values overall\n",
    "df_wine.info()"
   ]
  },
  {
   "cell_type": "code",
   "execution_count": 4,
   "id": "offensive-filling",
   "metadata": {
    "execution": {
     "iopub.execute_input": "2021-04-04T15:50:42.855129Z",
     "iopub.status.busy": "2021-04-04T15:50:42.852579Z",
     "iopub.status.idle": "2021-04-04T15:50:42.859340Z",
     "shell.execute_reply": "2021-04-04T15:50:42.859788Z"
    },
    "papermill": {
     "duration": 0.029885,
     "end_time": "2021-04-04T15:50:42.859976",
     "exception": false,
     "start_time": "2021-04-04T15:50:42.830091",
     "status": "completed"
    },
    "tags": []
   },
   "outputs": [
    {
     "data": {
      "text/plain": [
       "5    681\n",
       "6    638\n",
       "7    199\n",
       "4     53\n",
       "8     18\n",
       "3     10\n",
       "Name: quality, dtype: int64"
      ]
     },
     "execution_count": 4,
     "metadata": {},
     "output_type": "execute_result"
    }
   ],
   "source": [
    "df_wine['quality'].value_counts()"
   ]
  },
  {
   "cell_type": "code",
   "execution_count": 5,
   "id": "informed-implementation",
   "metadata": {
    "execution": {
     "iopub.execute_input": "2021-04-04T15:50:42.906766Z",
     "iopub.status.busy": "2021-04-04T15:50:42.901619Z",
     "iopub.status.idle": "2021-04-04T15:50:43.115221Z",
     "shell.execute_reply": "2021-04-04T15:50:43.114645Z"
    },
    "papermill": {
     "duration": 0.23744,
     "end_time": "2021-04-04T15:50:43.115371",
     "exception": false,
     "start_time": "2021-04-04T15:50:42.877931",
     "status": "completed"
    },
    "tags": []
   },
   "outputs": [
    {
     "data": {
      "text/plain": [
       "<AxesSubplot:xlabel='quality', ylabel='count'>"
      ]
     },
     "execution_count": 5,
     "metadata": {},
     "output_type": "execute_result"
    },
    {
     "data": {
      "image/png": "[encoded data removed]",
      "text/plain": [
       "<Figure size 432x288 with 1 Axes>"
      ]
     },
     "metadata": {},
     "output_type": "display_data"
    }
   ],
   "source": [
    "sns.set_style('whitegrid')\n",
    "sns.countplot(df_wine['quality'])"
   ]
  },
  {
   "cell_type": "code",
   "execution_count": 6,
   "id": "surgical-automation",
   "metadata": {
    "execution": {
     "iopub.execute_input": "2021-04-04T15:50:43.177705Z",
     "iopub.status.busy": "2021-04-04T15:50:43.177005Z",
     "iopub.status.idle": "2021-04-04T15:50:43.181702Z",
     "shell.execute_reply": "2021-04-04T15:50:43.181214Z"
    },
    "papermill": {
     "duration": 0.046193,
     "end_time": "2021-04-04T15:50:43.181842",
     "exception": false,
     "start_time": "2021-04-04T15:50:43.135649",
     "status": "completed"
    },
    "tags": []
   },
   "outputs": [
    {
     "data": {
      "text/html": [
       "<div>\n",
       "<style scoped>\n",
       "    .dataframe tbody tr th:only-of-type {\n",
       "        vertical-align: middle;\n",
       "    }\n",
       "\n",
       "    .dataframe tbody tr th {\n",
       "        vertical-align: top;\n",
       "    }\n",
       "\n",
       "    .dataframe thead th {\n",
       "        text-align: right;\n",
       "    }\n",
       "</style>\n",
       "<table border=\"1\" class=\"dataframe\">\n",
       "  <thead>\n",
       "    <tr style=\"text-align: right;\">\n",
       "      <th></th>\n",
       "      <th>fixed acidity</th>\n",
       "      <th>volatile acidity</th>\n",
       "      <th>citric acid</th>\n",
       "      <th>residual sugar</th>\n",
       "      <th>chlorides</th>\n",
       "      <th>free sulfur dioxide</th>\n",
       "      <th>total sulfur dioxide</th>\n",
       "      <th>density</th>\n",
       "      <th>pH</th>\n",
       "      <th>sulphates</th>\n",
       "      <th>alcohol</th>\n",
       "      <th>quality</th>\n",
       "    </tr>\n",
       "  </thead>\n",
       "  <tbody>\n",
       "    <tr>\n",
       "      <th>0</th>\n",
       "      <td>7.4</td>\n",
       "      <td>0.70</td>\n",
       "      <td>0.00</td>\n",
       "      <td>1.9</td>\n",
       "      <td>0.076</td>\n",
       "      <td>11.0</td>\n",
       "      <td>34.0</td>\n",
       "      <td>0.9978</td>\n",
       "      <td>3.51</td>\n",
       "      <td>0.56</td>\n",
       "      <td>9.4</td>\n",
       "      <td>5</td>\n",
       "    </tr>\n",
       "    <tr>\n",
       "      <th>1</th>\n",
       "      <td>7.8</td>\n",
       "      <td>0.88</td>\n",
       "      <td>0.00</td>\n",
       "      <td>2.6</td>\n",
       "      <td>0.098</td>\n",
       "      <td>25.0</td>\n",
       "      <td>67.0</td>\n",
       "      <td>0.9968</td>\n",
       "      <td>3.20</td>\n",
       "      <td>0.68</td>\n",
       "      <td>9.8</td>\n",
       "      <td>5</td>\n",
       "    </tr>\n",
       "    <tr>\n",
       "      <th>2</th>\n",
       "      <td>7.8</td>\n",
       "      <td>0.76</td>\n",
       "      <td>0.04</td>\n",
       "      <td>2.3</td>\n",
       "      <td>0.092</td>\n",
       "      <td>15.0</td>\n",
       "      <td>54.0</td>\n",
       "      <td>0.9970</td>\n",
       "      <td>3.26</td>\n",
       "      <td>0.65</td>\n",
       "      <td>9.8</td>\n",
       "      <td>5</td>\n",
       "    </tr>\n",
       "    <tr>\n",
       "      <th>3</th>\n",
       "      <td>11.2</td>\n",
       "      <td>0.28</td>\n",
       "      <td>0.56</td>\n",
       "      <td>1.9</td>\n",
       "      <td>0.075</td>\n",
       "      <td>17.0</td>\n",
       "      <td>60.0</td>\n",
       "      <td>0.9980</td>\n",
       "      <td>3.16</td>\n",
       "      <td>0.58</td>\n",
       "      <td>9.8</td>\n",
       "      <td>6</td>\n",
       "    </tr>\n",
       "    <tr>\n",
       "      <th>4</th>\n",
       "      <td>7.4</td>\n",
       "      <td>0.70</td>\n",
       "      <td>0.00</td>\n",
       "      <td>1.9</td>\n",
       "      <td>0.076</td>\n",
       "      <td>11.0</td>\n",
       "      <td>34.0</td>\n",
       "      <td>0.9978</td>\n",
       "      <td>3.51</td>\n",
       "      <td>0.56</td>\n",
       "      <td>9.4</td>\n",
       "      <td>5</td>\n",
       "    </tr>\n",
       "  </tbody>\n",
       "</table>\n",
       "</div>"
      ],
      "text/plain": [
       "   fixed acidity  volatile acidity  citric acid  residual sugar  chlorides  \\\n",
       "0            7.4              0.70         0.00             1.9      0.076   \n",
       "1            7.8              0.88         0.00             2.6      0.098   \n",
       "2            7.8              0.76         0.04             2.3      0.092   \n",
       "3           11.2              0.28         0.56             1.9      0.075   \n",
       "4            7.4              0.70         0.00             1.9      0.076   \n",
       "\n",
       "   free sulfur dioxide  total sulfur dioxide  density    pH  sulphates  \\\n",
       "0                 11.0                  34.0   0.9978  3.51       0.56   \n",
       "1                 25.0                  67.0   0.9968  3.20       0.68   \n",
       "2                 15.0                  54.0   0.9970  3.26       0.65   \n",
       "3                 17.0                  60.0   0.9980  3.16       0.58   \n",
       "4                 11.0                  34.0   0.9978  3.51       0.56   \n",
       "\n",
       "   alcohol  quality  \n",
       "0      9.4        5  \n",
       "1      9.8        5  \n",
       "2      9.8        5  \n",
       "3      9.8        6  \n",
       "4      9.4        5  "
      ]
     },
     "execution_count": 6,
     "metadata": {},
     "output_type": "execute_result"
    }
   ],
   "source": [
    "df_wine.head()"
   ]
  },
  {
   "cell_type": "code",
   "execution_count": 7,
   "id": "severe-extension",
   "metadata": {
    "execution": {
     "iopub.execute_input": "2021-04-04T15:50:43.229480Z",
     "iopub.status.busy": "2021-04-04T15:50:43.228747Z",
     "iopub.status.idle": "2021-04-04T15:50:43.232073Z",
     "shell.execute_reply": "2021-04-04T15:50:43.231449Z"
    },
    "papermill": {
     "duration": 0.030537,
     "end_time": "2021-04-04T15:50:43.232219",
     "exception": false,
     "start_time": "2021-04-04T15:50:43.201682",
     "status": "completed"
    },
    "tags": []
   },
   "outputs": [],
   "source": [
    "# categorize the quality of wine as bad if quality is < 6.5 and good if quality > 6.5\n",
    "quality_names = ['bad', 'good']\n",
    "df_wine['quality'] = pd.cut(df_wine['quality'], [2, 6.5, 8], labels = quality_names)"
   ]
  },
  {
   "cell_type": "code",
   "execution_count": 8,
   "id": "excited-entry",
   "metadata": {
    "execution": {
     "iopub.execute_input": "2021-04-04T15:50:43.286448Z",
     "iopub.status.busy": "2021-04-04T15:50:43.285377Z",
     "iopub.status.idle": "2021-04-04T15:50:43.299582Z",
     "shell.execute_reply": "2021-04-04T15:50:43.298930Z"
    },
    "papermill": {
     "duration": 0.047394,
     "end_time": "2021-04-04T15:50:43.299732",
     "exception": false,
     "start_time": "2021-04-04T15:50:43.252338",
     "status": "completed"
    },
    "tags": []
   },
   "outputs": [
    {
     "data": {
      "text/html": [
       "<div>\n",
       "<style scoped>\n",
       "    .dataframe tbody tr th:only-of-type {\n",
       "        vertical-align: middle;\n",
       "    }\n",
       "\n",
       "    .dataframe tbody tr th {\n",
       "        vertical-align: top;\n",
       "    }\n",
       "\n",
       "    .dataframe thead th {\n",
       "        text-align: right;\n",
       "    }\n",
       "</style>\n",
       "<table border=\"1\" class=\"dataframe\">\n",
       "  <thead>\n",
       "    <tr style=\"text-align: right;\">\n",
       "      <th></th>\n",
       "      <th>fixed acidity</th>\n",
       "      <th>volatile acidity</th>\n",
       "      <th>citric acid</th>\n",
       "      <th>residual sugar</th>\n",
       "      <th>chlorides</th>\n",
       "      <th>free sulfur dioxide</th>\n",
       "      <th>total sulfur dioxide</th>\n",
       "      <th>density</th>\n",
       "      <th>pH</th>\n",
       "      <th>sulphates</th>\n",
       "      <th>alcohol</th>\n",
       "      <th>quality</th>\n",
       "    </tr>\n",
       "  </thead>\n",
       "  <tbody>\n",
       "    <tr>\n",
       "      <th>0</th>\n",
       "      <td>7.4</td>\n",
       "      <td>0.70</td>\n",
       "      <td>0.00</td>\n",
       "      <td>1.9</td>\n",
       "      <td>0.076</td>\n",
       "      <td>11.0</td>\n",
       "      <td>34.0</td>\n",
       "      <td>0.9978</td>\n",
       "      <td>3.51</td>\n",
       "      <td>0.56</td>\n",
       "      <td>9.4</td>\n",
       "      <td>bad</td>\n",
       "    </tr>\n",
       "    <tr>\n",
       "      <th>1</th>\n",
       "      <td>7.8</td>\n",
       "      <td>0.88</td>\n",
       "      <td>0.00</td>\n",
       "      <td>2.6</td>\n",
       "      <td>0.098</td>\n",
       "      <td>25.0</td>\n",
       "      <td>67.0</td>\n",
       "      <td>0.9968</td>\n",
       "      <td>3.20</td>\n",
       "      <td>0.68</td>\n",
       "      <td>9.8</td>\n",
       "      <td>bad</td>\n",
       "    </tr>\n",
       "    <tr>\n",
       "      <th>2</th>\n",
       "      <td>7.8</td>\n",
       "      <td>0.76</td>\n",
       "      <td>0.04</td>\n",
       "      <td>2.3</td>\n",
       "      <td>0.092</td>\n",
       "      <td>15.0</td>\n",
       "      <td>54.0</td>\n",
       "      <td>0.9970</td>\n",
       "      <td>3.26</td>\n",
       "      <td>0.65</td>\n",
       "      <td>9.8</td>\n",
       "      <td>bad</td>\n",
       "    </tr>\n",
       "    <tr>\n",
       "      <th>3</th>\n",
       "      <td>11.2</td>\n",
       "      <td>0.28</td>\n",
       "      <td>0.56</td>\n",
       "      <td>1.9</td>\n",
       "      <td>0.075</td>\n",
       "      <td>17.0</td>\n",
       "      <td>60.0</td>\n",
       "      <td>0.9980</td>\n",
       "      <td>3.16</td>\n",
       "      <td>0.58</td>\n",
       "      <td>9.8</td>\n",
       "      <td>bad</td>\n",
       "    </tr>\n",
       "    <tr>\n",
       "      <th>4</th>\n",
       "      <td>7.4</td>\n",
       "      <td>0.70</td>\n",
       "      <td>0.00</td>\n",
       "      <td>1.9</td>\n",
       "      <td>0.076</td>\n",
       "      <td>11.0</td>\n",
       "      <td>34.0</td>\n",
       "      <td>0.9978</td>\n",
       "      <td>3.51</td>\n",
       "      <td>0.56</td>\n",
       "      <td>9.4</td>\n",
       "      <td>bad</td>\n",
       "    </tr>\n",
       "  </tbody>\n",
       "</table>\n",
       "</div>"
      ],
      "text/plain": [
       "   fixed acidity  volatile acidity  citric acid  residual sugar  chlorides  \\\n",
       "0            7.4              0.70         0.00             1.9      0.076   \n",
       "1            7.8              0.88         0.00             2.6      0.098   \n",
       "2            7.8              0.76         0.04             2.3      0.092   \n",
       "3           11.2              0.28         0.56             1.9      0.075   \n",
       "4            7.4              0.70         0.00             1.9      0.076   \n",
       "\n",
       "   free sulfur dioxide  total sulfur dioxide  density    pH  sulphates  \\\n",
       "0                 11.0                  34.0   0.9978  3.51       0.56   \n",
       "1                 25.0                  67.0   0.9968  3.20       0.68   \n",
       "2                 15.0                  54.0   0.9970  3.26       0.65   \n",
       "3                 17.0                  60.0   0.9980  3.16       0.58   \n",
       "4                 11.0                  34.0   0.9978  3.51       0.56   \n",
       "\n",
       "   alcohol quality  \n",
       "0      9.4     bad  \n",
       "1      9.8     bad  \n",
       "2      9.8     bad  \n",
       "3      9.8     bad  \n",
       "4      9.4     bad  "
      ]
     },
     "execution_count": 8,
     "metadata": {},
     "output_type": "execute_result"
    }
   ],
   "source": [
    "df_wine.head()"
   ]
  },
  {
   "cell_type": "code",
   "execution_count": 9,
   "id": "reserved-singing",
   "metadata": {
    "execution": {
     "iopub.execute_input": "2021-04-04T15:50:43.346499Z",
     "iopub.status.busy": "2021-04-04T15:50:43.345550Z",
     "iopub.status.idle": "2021-04-04T15:50:43.348338Z",
     "shell.execute_reply": "2021-04-04T15:50:43.348841Z"
    },
    "papermill": {
     "duration": 0.028534,
     "end_time": "2021-04-04T15:50:43.349023",
     "exception": false,
     "start_time": "2021-04-04T15:50:43.320489",
     "status": "completed"
    },
    "tags": []
   },
   "outputs": [],
   "source": [
    "# encode the quality labels to numerical values as 0 or 1\n",
    "quality_labels = LabelEncoder()"
   ]
  },
  {
   "cell_type": "code",
   "execution_count": 10,
   "id": "automatic-angola",
   "metadata": {
    "execution": {
     "iopub.execute_input": "2021-04-04T15:50:43.397155Z",
     "iopub.status.busy": "2021-04-04T15:50:43.396129Z",
     "iopub.status.idle": "2021-04-04T15:50:43.399386Z",
     "shell.execute_reply": "2021-04-04T15:50:43.398749Z"
    },
    "papermill": {
     "duration": 0.029966,
     "end_time": "2021-04-04T15:50:43.399532",
     "exception": false,
     "start_time": "2021-04-04T15:50:43.369566",
     "status": "completed"
    },
    "tags": []
   },
   "outputs": [],
   "source": [
    "df_wine['quality'] = quality_labels.fit_transform(df_wine['quality'])"
   ]
  },
  {
   "cell_type": "code",
   "execution_count": 11,
   "id": "detected-implementation",
   "metadata": {
    "execution": {
     "iopub.execute_input": "2021-04-04T15:50:43.447847Z",
     "iopub.status.busy": "2021-04-04T15:50:43.446825Z",
     "iopub.status.idle": "2021-04-04T15:50:43.576254Z",
     "shell.execute_reply": "2021-04-04T15:50:43.575694Z"
    },
    "papermill": {
     "duration": 0.155757,
     "end_time": "2021-04-04T15:50:43.576391",
     "exception": false,
     "start_time": "2021-04-04T15:50:43.420634",
     "status": "completed"
    },
    "tags": []
   },
   "outputs": [
    {
     "data": {
      "text/plain": [
       "<AxesSubplot:xlabel='quality', ylabel='count'>"
      ]
     },
     "execution_count": 11,
     "metadata": {},
     "output_type": "execute_result"
    },
    {
     "data": {
      "image/png": "[encoded data removed]",
      "text/plain": [
       "<Figure size 432x288 with 1 Axes>"
      ]
     },
     "metadata": {},
     "output_type": "display_data"
    }
   ],
   "source": [
    "sns.countplot(df_wine['quality'])"
   ]
  },
  {
   "cell_type": "code",
   "execution_count": 12,
   "id": "intelligent-birthday",
   "metadata": {
    "execution": {
     "iopub.execute_input": "2021-04-04T15:50:43.640572Z",
     "iopub.status.busy": "2021-04-04T15:50:43.638387Z",
     "iopub.status.idle": "2021-04-04T15:50:43.645046Z",
     "shell.execute_reply": "2021-04-04T15:50:43.645491Z"
    },
    "papermill": {
     "duration": 0.04718,
     "end_time": "2021-04-04T15:50:43.645661",
     "exception": false,
     "start_time": "2021-04-04T15:50:43.598481",
     "status": "completed"
    },
    "tags": []
   },
   "outputs": [
    {
     "data": {
      "text/html": [
       "<div>\n",
       "<style scoped>\n",
       "    .dataframe tbody tr th:only-of-type {\n",
       "        vertical-align: middle;\n",
       "    }\n",
       "\n",
       "    .dataframe tbody tr th {\n",
       "        vertical-align: top;\n",
       "    }\n",
       "\n",
       "    .dataframe thead th {\n",
       "        text-align: right;\n",
       "    }\n",
       "</style>\n",
       "<table border=\"1\" class=\"dataframe\">\n",
       "  <thead>\n",
       "    <tr style=\"text-align: right;\">\n",
       "      <th></th>\n",
       "      <th>fixed acidity</th>\n",
       "      <th>volatile acidity</th>\n",
       "      <th>citric acid</th>\n",
       "      <th>residual sugar</th>\n",
       "      <th>chlorides</th>\n",
       "      <th>free sulfur dioxide</th>\n",
       "      <th>total sulfur dioxide</th>\n",
       "      <th>density</th>\n",
       "      <th>pH</th>\n",
       "      <th>sulphates</th>\n",
       "      <th>alcohol</th>\n",
       "      <th>quality</th>\n",
       "    </tr>\n",
       "  </thead>\n",
       "  <tbody>\n",
       "    <tr>\n",
       "      <th>0</th>\n",
       "      <td>7.4</td>\n",
       "      <td>0.70</td>\n",
       "      <td>0.00</td>\n",
       "      <td>1.9</td>\n",
       "      <td>0.076</td>\n",
       "      <td>11.0</td>\n",
       "      <td>34.0</td>\n",
       "      <td>0.9978</td>\n",
       "      <td>3.51</td>\n",
       "      <td>0.56</td>\n",
       "      <td>9.4</td>\n",
       "      <td>0</td>\n",
       "    </tr>\n",
       "    <tr>\n",
       "      <th>1</th>\n",
       "      <td>7.8</td>\n",
       "      <td>0.88</td>\n",
       "      <td>0.00</td>\n",
       "      <td>2.6</td>\n",
       "      <td>0.098</td>\n",
       "      <td>25.0</td>\n",
       "      <td>67.0</td>\n",
       "      <td>0.9968</td>\n",
       "      <td>3.20</td>\n",
       "      <td>0.68</td>\n",
       "      <td>9.8</td>\n",
       "      <td>0</td>\n",
       "    </tr>\n",
       "    <tr>\n",
       "      <th>2</th>\n",
       "      <td>7.8</td>\n",
       "      <td>0.76</td>\n",
       "      <td>0.04</td>\n",
       "      <td>2.3</td>\n",
       "      <td>0.092</td>\n",
       "      <td>15.0</td>\n",
       "      <td>54.0</td>\n",
       "      <td>0.9970</td>\n",
       "      <td>3.26</td>\n",
       "      <td>0.65</td>\n",
       "      <td>9.8</td>\n",
       "      <td>0</td>\n",
       "    </tr>\n",
       "    <tr>\n",
       "      <th>3</th>\n",
       "      <td>11.2</td>\n",
       "      <td>0.28</td>\n",
       "      <td>0.56</td>\n",
       "      <td>1.9</td>\n",
       "      <td>0.075</td>\n",
       "      <td>17.0</td>\n",
       "      <td>60.0</td>\n",
       "      <td>0.9980</td>\n",
       "      <td>3.16</td>\n",
       "      <td>0.58</td>\n",
       "      <td>9.8</td>\n",
       "      <td>0</td>\n",
       "    </tr>\n",
       "    <tr>\n",
       "      <th>4</th>\n",
       "      <td>7.4</td>\n",
       "      <td>0.70</td>\n",
       "      <td>0.00</td>\n",
       "      <td>1.9</td>\n",
       "      <td>0.076</td>\n",
       "      <td>11.0</td>\n",
       "      <td>34.0</td>\n",
       "      <td>0.9978</td>\n",
       "      <td>3.51</td>\n",
       "      <td>0.56</td>\n",
       "      <td>9.4</td>\n",
       "      <td>0</td>\n",
       "    </tr>\n",
       "  </tbody>\n",
       "</table>\n",
       "</div>"
      ],
      "text/plain": [
       "   fixed acidity  volatile acidity  citric acid  residual sugar  chlorides  \\\n",
       "0            7.4              0.70         0.00             1.9      0.076   \n",
       "1            7.8              0.88         0.00             2.6      0.098   \n",
       "2            7.8              0.76         0.04             2.3      0.092   \n",
       "3           11.2              0.28         0.56             1.9      0.075   \n",
       "4            7.4              0.70         0.00             1.9      0.076   \n",
       "\n",
       "   free sulfur dioxide  total sulfur dioxide  density    pH  sulphates  \\\n",
       "0                 11.0                  34.0   0.9978  3.51       0.56   \n",
       "1                 25.0                  67.0   0.9968  3.20       0.68   \n",
       "2                 15.0                  54.0   0.9970  3.26       0.65   \n",
       "3                 17.0                  60.0   0.9980  3.16       0.58   \n",
       "4                 11.0                  34.0   0.9978  3.51       0.56   \n",
       "\n",
       "   alcohol  quality  \n",
       "0      9.4        0  \n",
       "1      9.8        0  \n",
       "2      9.8        0  \n",
       "3      9.8        0  \n",
       "4      9.4        0  "
      ]
     },
     "execution_count": 12,
     "metadata": {},
     "output_type": "execute_result"
    }
   ],
   "source": [
    "df_wine.head()"
   ]
  },
  {
   "cell_type": "code",
   "execution_count": 13,
   "id": "professional-wednesday",
   "metadata": {
    "execution": {
     "iopub.execute_input": "2021-04-04T15:50:43.697211Z",
     "iopub.status.busy": "2021-04-04T15:50:43.696425Z",
     "iopub.status.idle": "2021-04-04T15:50:43.699998Z",
     "shell.execute_reply": "2021-04-04T15:50:43.699346Z"
    },
    "papermill": {
     "duration": 0.03201,
     "end_time": "2021-04-04T15:50:43.700131",
     "exception": false,
     "start_time": "2021-04-04T15:50:43.668121",
     "status": "completed"
    },
    "tags": []
   },
   "outputs": [],
   "source": [
    "X = df_wine.drop('quality', axis = 1)\n",
    "y = df_wine['quality']"
   ]
  },
  {
   "cell_type": "code",
   "execution_count": 14,
   "id": "coastal-testing",
   "metadata": {
    "execution": {
     "iopub.execute_input": "2021-04-04T15:50:43.750633Z",
     "iopub.status.busy": "2021-04-04T15:50:43.749917Z",
     "iopub.status.idle": "2021-04-04T15:50:43.808467Z",
     "shell.execute_reply": "2021-04-04T15:50:43.807799Z"
    },
    "papermill": {
     "duration": 0.085681,
     "end_time": "2021-04-04T15:50:43.808613",
     "exception": false,
     "start_time": "2021-04-04T15:50:43.722932",
     "status": "completed"
    },
    "tags": []
   },
   "outputs": [],
   "source": [
    "from sklearn.model_selection import train_test_split"
   ]
  },
  {
   "cell_type": "code",
   "execution_count": 15,
   "id": "engaging-accessory",
   "metadata": {
    "execution": {
     "iopub.execute_input": "2021-04-04T15:50:43.860990Z",
     "iopub.status.busy": "2021-04-04T15:50:43.860194Z",
     "iopub.status.idle": "2021-04-04T15:50:43.865420Z",
     "shell.execute_reply": "2021-04-04T15:50:43.864728Z"
    },
    "papermill": {
     "duration": 0.033893,
     "end_time": "2021-04-04T15:50:43.865564",
     "exception": false,
     "start_time": "2021-04-04T15:50:43.831671",
     "status": "completed"
    },
    "tags": []
   },
   "outputs": [],
   "source": [
    "X_train, X_test, y_train, y_test = train_test_split(X, y, test_size=0.3, random_state=101)"
   ]
  },
  {
   "cell_type": "code",
   "execution_count": 16,
   "id": "sustained-directive",
   "metadata": {
    "execution": {
     "iopub.execute_input": "2021-04-04T15:50:43.923328Z",
     "iopub.status.busy": "2021-04-04T15:50:43.918650Z",
     "iopub.status.idle": "2021-04-04T15:50:43.929490Z",
     "shell.execute_reply": "2021-04-04T15:50:43.928943Z"
    },
    "papermill": {
     "duration": 0.040787,
     "end_time": "2021-04-04T15:50:43.929624",
     "exception": false,
     "start_time": "2021-04-04T15:50:43.888837",
     "status": "completed"
    },
    "tags": []
   },
   "outputs": [],
   "source": [
    "sc = StandardScaler()\n",
    "X_train = sc.fit_transform(X_train)\n",
    "X_test = sc.fit_transform(X_test)"
   ]
  },
  {
   "cell_type": "code",
   "execution_count": 17,
   "id": "exempt-practice",
   "metadata": {
    "execution": {
     "iopub.execute_input": "2021-04-04T15:50:43.981008Z",
     "iopub.status.busy": "2021-04-04T15:50:43.980252Z",
     "iopub.status.idle": "2021-04-04T15:50:44.202933Z",
     "shell.execute_reply": "2021-04-04T15:50:44.203558Z"
    },
    "papermill": {
     "duration": 0.250746,
     "end_time": "2021-04-04T15:50:44.203735",
     "exception": false,
     "start_time": "2021-04-04T15:50:43.952989",
     "status": "completed"
    },
    "tags": []
   },
   "outputs": [],
   "source": [
    "# importing RandomForest Classifier\n",
    "from sklearn.ensemble import RandomForestClassifier"
   ]
  },
  {
   "cell_type": "code",
   "execution_count": 18,
   "id": "streaming-concrete",
   "metadata": {
    "execution": {
     "iopub.execute_input": "2021-04-04T15:50:44.258927Z",
     "iopub.status.busy": "2021-04-04T15:50:44.258249Z",
     "iopub.status.idle": "2021-04-04T15:50:44.558083Z",
     "shell.execute_reply": "2021-04-04T15:50:44.557450Z"
    },
    "papermill": {
     "duration": 0.330834,
     "end_time": "2021-04-04T15:50:44.558228",
     "exception": false,
     "start_time": "2021-04-04T15:50:44.227394",
     "status": "completed"
    },
    "tags": []
   },
   "outputs": [
    {
     "data": {
      "text/plain": [
       "RandomForestClassifier()"
      ]
     },
     "execution_count": 18,
     "metadata": {},
     "output_type": "execute_result"
    }
   ],
   "source": [
    "ran_fc = RandomForestClassifier()\n",
    "ran_fc.fit(X_train, y_train)"
   ]
  },
  {
   "cell_type": "code",
   "execution_count": 19,
   "id": "latter-figure",
   "metadata": {
    "execution": {
     "iopub.execute_input": "2021-04-04T15:50:44.611455Z",
     "iopub.status.busy": "2021-04-04T15:50:44.610753Z",
     "iopub.status.idle": "2021-04-04T15:50:44.630339Z",
     "shell.execute_reply": "2021-04-04T15:50:44.629507Z"
    },
    "papermill": {
     "duration": 0.048577,
     "end_time": "2021-04-04T15:50:44.630503",
     "exception": false,
     "start_time": "2021-04-04T15:50:44.581926",
     "status": "completed"
    },
    "tags": []
   },
   "outputs": [],
   "source": [
    "rfc_pred = ran_fc.predict(X_test)"
   ]
  },
  {
   "cell_type": "code",
   "execution_count": 20,
   "id": "unusual-trash",
   "metadata": {
    "execution": {
     "iopub.execute_input": "2021-04-04T15:50:44.683793Z",
     "iopub.status.busy": "2021-04-04T15:50:44.683156Z",
     "iopub.status.idle": "2021-04-04T15:50:44.686354Z",
     "shell.execute_reply": "2021-04-04T15:50:44.685846Z"
    },
    "papermill": {
     "duration": 0.031883,
     "end_time": "2021-04-04T15:50:44.686491",
     "exception": false,
     "start_time": "2021-04-04T15:50:44.654608",
     "status": "completed"
    },
    "tags": []
   },
   "outputs": [],
   "source": [
    "from sklearn.metrics import classification_report, confusion_matrix"
   ]
  },
  {
   "cell_type": "code",
   "execution_count": 21,
   "id": "stone-perception",
   "metadata": {
    "execution": {
     "iopub.execute_input": "2021-04-04T15:50:44.741749Z",
     "iopub.status.busy": "2021-04-04T15:50:44.740693Z",
     "iopub.status.idle": "2021-04-04T15:50:44.749013Z",
     "shell.execute_reply": "2021-04-04T15:50:44.749494Z"
    },
    "papermill": {
     "duration": 0.03929,
     "end_time": "2021-04-04T15:50:44.749666",
     "exception": false,
     "start_time": "2021-04-04T15:50:44.710376",
     "status": "completed"
    },
    "tags": []
   },
   "outputs": [
    {
     "name": "stdout",
     "output_type": "stream",
     "text": [
      "              precision    recall  f1-score   support\n",
      "\n",
      "           0       0.90      0.96      0.93       412\n",
      "           1       0.61      0.34      0.43        68\n",
      "\n",
      "    accuracy                           0.88       480\n",
      "   macro avg       0.75      0.65      0.68       480\n",
      "weighted avg       0.86      0.88      0.86       480\n",
      "\n"
     ]
    }
   ],
   "source": [
    "print(classification_report(y_test, rfc_pred))"
   ]
  },
  {
   "cell_type": "code",
   "execution_count": 22,
   "id": "capital-section",
   "metadata": {
    "execution": {
     "iopub.execute_input": "2021-04-04T15:50:44.825100Z",
     "iopub.status.busy": "2021-04-04T15:50:44.804099Z",
     "iopub.status.idle": "2021-04-04T15:50:45.016446Z",
     "shell.execute_reply": "2021-04-04T15:50:45.015901Z"
    },
    "papermill": {
     "duration": 0.242518,
     "end_time": "2021-04-04T15:50:45.016590",
     "exception": false,
     "start_time": "2021-04-04T15:50:44.774072",
     "status": "completed"
    },
    "tags": []
   },
   "outputs": [
    {
     "data": {
      "text/plain": [
       "<AxesSubplot:>"
      ]
     },
     "execution_count": 22,
     "metadata": {},
     "output_type": "execute_result"
    },
    {
     "data": {
      "image/png": "[encoded data removed]",
      "text/plain": [
       "<Figure size 432x288 with 2 Axes>"
      ]
     },
     "metadata": {},
     "output_type": "display_data"
    }
   ],
   "source": [
    "confu_mat = confusion_matrix(y_test, rfc_pred)\n",
    "plt.figure(figsize = (6, 4))\n",
    "sns.heatmap(confu_mat, annot = True, cmap = 'viridis')"
   ]
  },
  {
   "cell_type": "code",
   "execution_count": null,
   "id": "standing-combining",
   "metadata": {
    "papermill": {
     "duration": 0.025144,
     "end_time": "2021-04-04T15:50:45.067339",
     "exception": false,
     "start_time": "2021-04-04T15:50:45.042195",
     "status": "completed"
    },
    "tags": []
   },
   "outputs": [],
   "source": []
  }
 ],
 "metadata": {
  "kernelspec": {
   "display_name": "Python 3",
   "language": "python",
   "name": "python3"
  },
  "language_info": {
   "codemirror_mode": {
    "name": "ipython",
    "version": 3
   },
   "file_extension": ".py",
   "mimetype": "text/x-python",
   "name": "python",
   "nbconvert_exporter": "python",
   "pygments_lexer": "ipython3",
   "version": "3.7.9"
  },
  "papermill": {
   "default_parameters": {},
   "duration": 10.547608,
   "end_time": "2021-04-04T15:50:45.803030",
   "environment_variables": {},
   "exception": null,
   "input_path": "__notebook__.ipynb",
   "output_path": "__notebook__.ipynb",
   "parameters": {},
   "start_time": "2021-04-04T15:50:35.255422",
   "version": "2.3.2"
  }
 },
 "nbformat": 4,
 "nbformat_minor": 5
}
