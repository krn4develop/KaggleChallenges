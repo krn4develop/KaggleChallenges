{
 "cells": [
  {
   "cell_type": "code",
   "execution_count": 1,
   "id": "alive-landing",
   "metadata": {
    "_cell_guid": "b1076dfc-b9ad-4769-8c92-a6c4dae69d19",
    "_uuid": "8f2839f25d086af736a60e9eeb907d3b93b6e0e5",
    "execution": {
     "iopub.execute_input": "2021-04-03T19:21:51.922610Z",
     "iopub.status.busy": "2021-04-03T19:21:51.921411Z",
     "iopub.status.idle": "2021-04-03T19:21:51.943680Z",
     "shell.execute_reply": "2021-04-03T19:21:51.943031Z"
    },
    "papermill": {
     "duration": 0.040227,
     "end_time": "2021-04-03T19:21:51.943845",
     "exception": false,
     "start_time": "2021-04-03T19:21:51.903618",
     "status": "completed"
    },
    "tags": []
   },
   "outputs": [
    {
     "name": "stdout",
     "output_type": "stream",
     "text": [
      "/kaggle/input/character-encoding-examples/file_guide.csv\n",
      "/kaggle/input/character-encoding-examples/olaf_Windows-1251.txt\n",
      "/kaggle/input/character-encoding-examples/shisei_UTF-8.txt\n",
      "/kaggle/input/character-encoding-examples/die_ISO-8859-1.txt\n",
      "/kaggle/input/character-encoding-examples/harpers_ASCII.txt\n",
      "/kaggle/input/character-encoding-examples/yan_BIG-5.txt\n",
      "/kaggle/input/character-encoding-examples/portugal_ISO-8859-1.txt\n"
     ]
    }
   ],
   "source": [
    "# This Python 3 environment comes with many helpful analytics libraries installed\n",
    "# It is defined by the kaggle/python Docker image: https://github.com/kaggle/docker-python\n",
    "# For example, here's several helpful packages to load\n",
    "\n",
    "import numpy as np # linear algebra\n",
    "import pandas as pd # data processing, CSV file I/O (e.g. pd.read_csv)\n",
    "\n",
    "# Input data files are available in the read-only \"../input/\" directory\n",
    "# For example, running this (by clicking run or pressing Shift+Enter) will list all files under the input directory\n",
    "\n",
    "import os\n",
    "for dirname, _, filenames in os.walk('/kaggle/input'):\n",
    "    for filename in filenames:\n",
    "        print(os.path.join(dirname, filename))\n",
    "\n",
    "# You can write up to 20GB to the current directory (/kaggle/working/) that gets preserved as output when you create a version using \"Save & Run All\" \n",
    "# You can also write temporary files to /kaggle/temp/, but they won't be saved outside of the current session"
   ]
  },
  {
   "cell_type": "code",
   "execution_count": 2,
   "id": "signal-arkansas",
   "metadata": {
    "execution": {
     "iopub.execute_input": "2021-04-03T19:21:51.975938Z",
     "iopub.status.busy": "2021-04-03T19:21:51.975298Z",
     "iopub.status.idle": "2021-04-03T19:21:51.979139Z",
     "shell.execute_reply": "2021-04-03T19:21:51.978622Z"
    },
    "papermill": {
     "duration": 0.021389,
     "end_time": "2021-04-03T19:21:51.979283",
     "exception": false,
     "start_time": "2021-04-03T19:21:51.957894",
     "status": "completed"
    },
    "tags": []
   },
   "outputs": [],
   "source": [
    "# import libraries\n",
    "import numpy as np\n",
    "import pandas as pd\n",
    "import chardet # for encoding"
   ]
  },
  {
   "cell_type": "code",
   "execution_count": 3,
   "id": "thirty-edward",
   "metadata": {
    "execution": {
     "iopub.execute_input": "2021-04-03T19:21:52.011096Z",
     "iopub.status.busy": "2021-04-03T19:21:52.010380Z",
     "iopub.status.idle": "2021-04-03T19:21:52.062371Z",
     "shell.execute_reply": "2021-04-03T19:21:52.062888Z"
    },
    "papermill": {
     "duration": 0.070667,
     "end_time": "2021-04-03T19:21:52.063087",
     "exception": false,
     "start_time": "2021-04-03T19:21:51.992420",
     "status": "completed"
    },
    "tags": []
   },
   "outputs": [
    {
     "data": {
      "text/html": [
       "<div>\n",
       "<style scoped>\n",
       "    .dataframe tbody tr th:only-of-type {\n",
       "        vertical-align: middle;\n",
       "    }\n",
       "\n",
       "    .dataframe tbody tr th {\n",
       "        vertical-align: top;\n",
       "    }\n",
       "\n",
       "    .dataframe thead th {\n",
       "        text-align: right;\n",
       "    }\n",
       "</style>\n",
       "<table border=\"1\" class=\"dataframe\">\n",
       "  <thead>\n",
       "    <tr style=\"text-align: right;\">\n",
       "      <th></th>\n",
       "      <th>File</th>\n",
       "      <th>Text</th>\n",
       "      <th>Author</th>\n",
       "      <th>Encoding</th>\n",
       "      <th>Language</th>\n",
       "      <th>Words</th>\n",
       "    </tr>\n",
       "  </thead>\n",
       "  <tbody>\n",
       "    <tr>\n",
       "      <th>0</th>\n",
       "      <td>die_ISO-8859-1.txt</td>\n",
       "      <td>Die Fürstin</td>\n",
       "      <td>Kasimir Edschmid</td>\n",
       "      <td>ISO-8859-1</td>\n",
       "      <td>German</td>\n",
       "      <td>13314</td>\n",
       "    </tr>\n",
       "    <tr>\n",
       "      <th>1</th>\n",
       "      <td>harpers_ASCII.txt</td>\n",
       "      <td>Harper's Round Table, October 8, 1895</td>\n",
       "      <td>Various</td>\n",
       "      <td>ASCII</td>\n",
       "      <td>English</td>\n",
       "      <td>29094</td>\n",
       "    </tr>\n",
       "    <tr>\n",
       "      <th>2</th>\n",
       "      <td>olaf_Windows-1251.txt</td>\n",
       "      <td>Olaf van Geldern</td>\n",
       "      <td>Pencho Slaveykov</td>\n",
       "      <td>Windows 1251</td>\n",
       "      <td>Bulgarian</td>\n",
       "      <td>2790</td>\n",
       "    </tr>\n",
       "    <tr>\n",
       "      <th>3</th>\n",
       "      <td>portugal_ISO-8859-1.txt</td>\n",
       "      <td>Portugal enfermo por vicios, e abusos de ambos...</td>\n",
       "      <td>José Daniel Rodrigues da Costa</td>\n",
       "      <td>ISO-8859-1</td>\n",
       "      <td>Portuguese</td>\n",
       "      <td>14215</td>\n",
       "    </tr>\n",
       "    <tr>\n",
       "      <th>4</th>\n",
       "      <td>shisei_UTF-8.txt</td>\n",
       "      <td>Shisei</td>\n",
       "      <td>Junichiro Tanizaki</td>\n",
       "      <td>UTF-8</td>\n",
       "      <td>Japanese</td>\n",
       "      <td>4809</td>\n",
       "    </tr>\n",
       "    <tr>\n",
       "      <th>5</th>\n",
       "      <td>yan_BIG-5.txt</td>\n",
       "      <td>Yan shi jia xun</td>\n",
       "      <td>Yan Zhitui</td>\n",
       "      <td>BIG-5</td>\n",
       "      <td>Chinese</td>\n",
       "      <td>2538</td>\n",
       "    </tr>\n",
       "  </tbody>\n",
       "</table>\n",
       "</div>"
      ],
      "text/plain": [
       "                      File                                               Text  \\\n",
       "0       die_ISO-8859-1.txt                                        Die Fürstin   \n",
       "1        harpers_ASCII.txt              Harper's Round Table, October 8, 1895   \n",
       "2    olaf_Windows-1251.txt                                   Olaf van Geldern   \n",
       "3  portugal_ISO-8859-1.txt  Portugal enfermo por vicios, e abusos de ambos...   \n",
       "4         shisei_UTF-8.txt                                             Shisei   \n",
       "5            yan_BIG-5.txt                                    Yan shi jia xun   \n",
       "\n",
       "                           Author      Encoding    Language  Words  \n",
       "0                Kasimir Edschmid    ISO-8859-1      German  13314  \n",
       "1                         Various         ASCII     English  29094  \n",
       "2                Pencho Slaveykov  Windows 1251   Bulgarian   2790  \n",
       "3  José Daniel Rodrigues da Costa    ISO-8859-1  Portuguese  14215  \n",
       "4              Junichiro Tanizaki         UTF-8    Japanese   4809  \n",
       "5                      Yan Zhitui         BIG-5     Chinese   2538  "
      ]
     },
     "execution_count": 3,
     "metadata": {},
     "output_type": "execute_result"
    }
   ],
   "source": [
    "# Open file_guide.csv file as it contains information about the text files\n",
    "info_csv = pd.read_csv('../input/character-encoding-examples/file_guide.csv')\n",
    "info_csv"
   ]
  },
  {
   "cell_type": "markdown",
   "id": "armed-distance",
   "metadata": {
    "papermill": {
     "duration": 0.014066,
     "end_time": "2021-04-03T19:21:52.091345",
     "exception": false,
     "start_time": "2021-04-03T19:21:52.077279",
     "status": "completed"
    },
    "tags": []
   },
   "source": [
    "Here, we can see that all the five text files have different encoding styles. Lets encode the first text and see how it works"
   ]
  },
  {
   "cell_type": "code",
   "execution_count": 4,
   "id": "prime-tobacco",
   "metadata": {
    "execution": {
     "iopub.execute_input": "2021-04-03T19:21:52.123893Z",
     "iopub.status.busy": "2021-04-03T19:21:52.123162Z",
     "iopub.status.idle": "2021-04-03T19:21:52.136216Z",
     "shell.execute_reply": "2021-04-03T19:21:52.135537Z"
    },
    "papermill": {
     "duration": 0.030718,
     "end_time": "2021-04-03T19:21:52.136377",
     "exception": false,
     "start_time": "2021-04-03T19:21:52.105659",
     "status": "completed"
    },
    "tags": []
   },
   "outputs": [
    {
     "name": "stdout",
     "output_type": "stream",
     "text": [
      "b'The Project Gutenberg EBook of Die F\\xfcrstin, by Kasimir Edschmid\\r\\n\\r\\nThis eBook is for the use of anyone anywhere at no cost and with\\r\\nalmost no restrictions whatsoever.  You may copy it, give it away o'\n"
     ]
    }
   ],
   "source": [
    "# using 'with open' to open text file\n",
    "with open('../input/character-encoding-examples/die_ISO-8859-1.txt', 'rb') as text_data:\n",
    "    text_file = text_data.read(200)\n",
    "print(text_file)"
   ]
  },
  {
   "cell_type": "markdown",
   "id": "usual-relay",
   "metadata": {
    "papermill": {
     "duration": 0.014785,
     "end_time": "2021-04-03T19:21:52.165914",
     "exception": false,
     "start_time": "2021-04-03T19:21:52.151129",
     "status": "completed"
    },
    "tags": []
   },
   "source": [
    "Here, we can see that some characters doesn't make sense. So, it is essential to change the encoding in appropirate type. For that, we need to find the encoding type of the required text file."
   ]
  },
  {
   "cell_type": "code",
   "execution_count": 5,
   "id": "filled-falls",
   "metadata": {
    "execution": {
     "iopub.execute_input": "2021-04-03T19:21:52.203157Z",
     "iopub.status.busy": "2021-04-03T19:21:52.202440Z",
     "iopub.status.idle": "2021-04-03T19:21:52.222508Z",
     "shell.execute_reply": "2021-04-03T19:21:52.221776Z"
    },
    "papermill": {
     "duration": 0.040783,
     "end_time": "2021-04-03T19:21:52.222659",
     "exception": false,
     "start_time": "2021-04-03T19:21:52.181876",
     "status": "completed"
    },
    "tags": []
   },
   "outputs": [
    {
     "name": "stdout",
     "output_type": "stream",
     "text": [
      "{'encoding': 'ISO-8859-1', 'confidence': 0.73, 'language': ''}\n"
     ]
    }
   ],
   "source": [
    "with open('../input/character-encoding-examples/die_ISO-8859-1.txt', 'rb') as text_data:\n",
    "    # using chardet library to detect the encoding type taking first 1000 words.\n",
    "    encode_type = chardet.detect(text_data.read(1000))\n",
    "print(encode_type)"
   ]
  },
  {
   "cell_type": "markdown",
   "id": "attractive-pennsylvania",
   "metadata": {
    "papermill": {
     "duration": 0.0146,
     "end_time": "2021-04-03T19:21:52.252158",
     "exception": false,
     "start_time": "2021-04-03T19:21:52.237558",
     "status": "completed"
    },
    "tags": []
   },
   "source": [
    "From above we can see that the encoding type is ISO-8859-1. Therefore, we can use it to open the text file in appropriate format."
   ]
  },
  {
   "cell_type": "code",
   "execution_count": 6,
   "id": "productive-moisture",
   "metadata": {
    "execution": {
     "iopub.execute_input": "2021-04-03T19:21:52.289771Z",
     "iopub.status.busy": "2021-04-03T19:21:52.288771Z",
     "iopub.status.idle": "2021-04-03T19:21:52.298716Z",
     "shell.execute_reply": "2021-04-03T19:21:52.297368Z"
    },
    "papermill": {
     "duration": 0.030204,
     "end_time": "2021-04-03T19:21:52.298951",
     "exception": false,
     "start_time": "2021-04-03T19:21:52.268747",
     "status": "completed"
    },
    "tags": []
   },
   "outputs": [
    {
     "name": "stdout",
     "output_type": "stream",
     "text": [
      "The Project Gutenberg EBook of Die Fürstin, by Kasimir Edschmid\n",
      "\n",
      "This eBook is for the use of anyone anywhere at no cost and with\n",
      "almost no restrictions whatsoever.  You may copy it, give it away or\n",
      "re-use it under the terms of the Project Gutenberg License included\n",
      "with this eBook or online at www.gutenberg.net\n",
      "\n",
      "\n",
      "Title: Die Fürstin\n",
      "\n",
      "Author: Kasimir Edschmid\n",
      "\n",
      "Release Date: May 15, 2010 [EBook #32385]\n",
      "\n",
      "Language: German\n",
      "\n",
      "Character set encoding: ISO-8859-1\n",
      "\n",
      "*** START OF THIS PROJECT GUTENBERG EBOOK DIE FÜRSTIN ***\n",
      "\n",
      "\n",
      "\n",
      "\n",
      "Produced by Jens Sadowski\n",
      "\n",
      "\n",
      "\n",
      "\n",
      "Transcriber's Note:\n",
      "Double quotation marks have been encoded as » and «.\n",
      "\n",
      "\n",
      "\n",
      "\n",
      "KASIMIR EDSCHMID\n",
      "\n",
      "DIE FÜRSTIN\n",
      "\n",
      "\n",
      "\n",
      "\n",
      "\n",
      "1920\n",
      "\n",
      "PAUL CASSIRER VERLAG · BERLIN\n",
      "\n",
      "\n",
      "\n",
      "ALLE RECHTE VORBEHALTEN\n",
      "\n",
      "COPYRIGHT 1920 BY PAUL CASSIRER · BERLIN\n",
      "\n",
      "\n",
      "\n",
      "\n",
      "\n",
      "\n",
      "GESCHRIEBEN NEUNZEHNHUNDERTSECHZEHN\n",
      "\n",
      "\n",
      "\n",
      "\n",
      "INHALT\n",
      "\n",
      "DAS FRAUENSCHLOSS\n",
      "JAEL\n",
      "DIE ABENTEUERLICHE NACHT\n",
      "BRIEF\n",
      "TRAUM\n",
      "\n",
      "\n",
      "\n",
      "\n",
      "\n",
      "\n",
      "\n",
      "\n",
      "\n",
      "DAS FRAUENSCHLOSS\n",
      "\n",
      "\n",
      "DIE Drachenköpfe unserer Boote bogen um das gelbe Segel. Die Parade vollzog\n",
      "sich in elegantem Rauschen, wir wollten mit Ostwind an das andere Ende, bei\n",
      "Ostwind anderthalb Stunden dachten wir, es waren dreißig Kilometer. Die\n",
      "Flottille lag in einer Linie. Die Ruder sangen dumpf verknattert. Dann\n",
      "schäumte das Wasser los, und die Segel beugten sich alle.\n",
      "\n",
      "Wir fuhren in gleicher Lage steil in die graue Wüste hinein. Das\n",
      "durchpflügte Wasser riß in nie absterbender Welle einen silbernen Bogen\n",
      "über den Lee. Die Bäuche der Segel neigten sich tiefer und streiften das\n",
      "farblose Wasser und hoben sich wieder aufgetaucht in rote Sonne. Die\n",
      "Luvseiten wälzten sich mit heller gestrichenen Leibern weit aus dem See,\n",
      "und der silberne Sprenkel der mitlaufenden ewigen Welle umstäubte uns von\n",
      "der anderen mit wildem Geflock.\n",
      "\n",
      "Alle Flaggen am Mast lohten schmal gezüngelt in das Blau.\n",
      "\n",
      "Als die spitze Wolke zwischen dem verlassenen Schloß und uns hereinschoß,\n",
      "gerieten die Frauen in Bewegung. Die nackten Beine lösen faul Wade von\n",
      "Wade, sie trennen sich von Mast und dem sonnigen Verdecke, über den dunk\n"
     ]
    }
   ],
   "source": [
    "with open('../input/character-encoding-examples/die_ISO-8859-1.txt', encoding = 'ISO-8859-1') as text_data:\n",
    "    #read the file\n",
    "    text_file = text_data.read(2000)\n",
    "print(text_file)"
   ]
  },
  {
   "cell_type": "markdown",
   "id": "utility-envelope",
   "metadata": {
    "papermill": {
     "duration": 0.014905,
     "end_time": "2021-04-03T19:21:52.329943",
     "exception": false,
     "start_time": "2021-04-03T19:21:52.315038",
     "status": "completed"
    },
    "tags": []
   },
   "source": [
    "Now, as we used correct encoding type, we were able to open the text file without any erros in the characters."
   ]
  },
  {
   "cell_type": "markdown",
   "id": "detected-scotland",
   "metadata": {
    "papermill": {
     "duration": 0.015213,
     "end_time": "2021-04-03T19:21:52.360702",
     "exception": false,
     "start_time": "2021-04-03T19:21:52.345489",
     "status": "completed"
    },
    "tags": []
   },
   "source": [
    "Lets create a function which can convert the correct encoding type of any given text file and open it correctly"
   ]
  },
  {
   "cell_type": "code",
   "execution_count": 7,
   "id": "lined-fraud",
   "metadata": {
    "execution": {
     "iopub.execute_input": "2021-04-03T19:21:52.398698Z",
     "iopub.status.busy": "2021-04-03T19:21:52.397567Z",
     "iopub.status.idle": "2021-04-03T19:21:52.401471Z",
     "shell.execute_reply": "2021-04-03T19:21:52.400908Z"
    },
    "papermill": {
     "duration": 0.025697,
     "end_time": "2021-04-03T19:21:52.401615",
     "exception": false,
     "start_time": "2021-04-03T19:21:52.375918",
     "status": "completed"
    },
    "tags": []
   },
   "outputs": [],
   "source": [
    "def encoding_tool(first_file_name):\n",
    "    # using concatination of the string as to satisfy the input path of the given file in kaggle\n",
    "    file_name = '../input/character-encoding-examples/' + first_file_name\n",
    "    with open(file_name, 'rb') as text_data:\n",
    "        detect_file = chardet.detect(text_data.read())\n",
    "    encoding_type = detect_file.get('encoding')    \n",
    "    with open(file_name, encoding = encoding_type) as final_data:\n",
    "        result = final_data.read(1500)\n",
    "    print(result)"
   ]
  },
  {
   "cell_type": "code",
   "execution_count": 8,
   "id": "owned-jesus",
   "metadata": {
    "execution": {
     "iopub.execute_input": "2021-04-03T19:21:52.438368Z",
     "iopub.status.busy": "2021-04-03T19:21:52.437637Z",
     "iopub.status.idle": "2021-04-03T19:21:52.925860Z",
     "shell.execute_reply": "2021-04-03T19:21:52.924962Z"
    },
    "papermill": {
     "duration": 0.508713,
     "end_time": "2021-04-03T19:21:52.926016",
     "exception": false,
     "start_time": "2021-04-03T19:21:52.417303",
     "status": "completed"
    },
    "tags": []
   },
   "outputs": [
    {
     "name": "stdout",
     "output_type": "stream",
     "text": [
      "The Project Gutenberg EBook of Die Fürstin, by Kasimir Edschmid\n",
      "\n",
      "This eBook is for the use of anyone anywhere at no cost and with\n",
      "almost no restrictions whatsoever.  You may copy it, give it away or\n",
      "re-use it under the terms of the Project Gutenberg License included\n",
      "with this eBook or online at www.gutenberg.net\n",
      "\n",
      "\n",
      "Title: Die Fürstin\n",
      "\n",
      "Author: Kasimir Edschmid\n",
      "\n",
      "Release Date: May 15, 2010 [EBook #32385]\n",
      "\n",
      "Language: German\n",
      "\n",
      "Character set encoding: ISO-8859-1\n",
      "\n",
      "*** START OF THIS PROJECT GUTENBERG EBOOK DIE FÜRSTIN ***\n",
      "\n",
      "\n",
      "\n",
      "\n",
      "Produced by Jens Sadowski\n",
      "\n",
      "\n",
      "\n",
      "\n",
      "Transcriber's Note:\n",
      "Double quotation marks have been encoded as » and «.\n",
      "\n",
      "\n",
      "\n",
      "\n",
      "KASIMIR EDSCHMID\n",
      "\n",
      "DIE FÜRSTIN\n",
      "\n",
      "\n",
      "\n",
      "\n",
      "\n",
      "1920\n",
      "\n",
      "PAUL CASSIRER VERLAG · BERLIN\n",
      "\n",
      "\n",
      "\n",
      "ALLE RECHTE VORBEHALTEN\n",
      "\n",
      "COPYRIGHT 1920 BY PAUL CASSIRER · BERLIN\n",
      "\n",
      "\n",
      "\n",
      "\n",
      "\n",
      "\n",
      "GESCHRIEBEN NEUNZEHNHUNDERTSECHZEHN\n",
      "\n",
      "\n",
      "\n",
      "\n",
      "INHALT\n",
      "\n",
      "DAS FRAUENSCHLOSS\n",
      "JAEL\n",
      "DIE ABENTEUERLICHE NACHT\n",
      "BRIEF\n",
      "TRAUM\n",
      "\n",
      "\n",
      "\n",
      "\n",
      "\n",
      "\n",
      "\n",
      "\n",
      "\n",
      "DAS FRAUENSCHLOSS\n",
      "\n",
      "\n",
      "DIE Drachenköpfe unserer Boote bogen um das gelbe Segel. Die Parade vollzog\n",
      "sich in elegantem Rauschen, wir wollten mit Ostwind an das andere Ende, bei\n",
      "Ostwind anderthalb Stunden dachten wir, es waren dreißig Kilometer. Die\n",
      "Flottille lag in einer Linie. Die Ruder sangen dumpf verknattert. Dann\n",
      "schäumte das Wasser los, und die Segel beugten sich alle.\n",
      "\n",
      "Wir fuhren in gleicher Lage steil in die graue Wüste hinein. Das\n",
      "durchpflügte Wasser riß in nie absterbender Welle einen silbernen Bogen\n",
      "über den Lee. Die Bäuche der Segel neigten sich tiefer und streiften das\n",
      "farblose Wasser und hoben\n",
      "None\n"
     ]
    }
   ],
   "source": [
    "# Lets use the first text file again to open using the function\n",
    "initial_text = 'die_ISO-8859-1.txt'\n",
    "german_text = encoding_tool(initial_text)\n",
    "print(german_text)"
   ]
  },
  {
   "cell_type": "code",
   "execution_count": 9,
   "id": "completed-appointment",
   "metadata": {
    "execution": {
     "iopub.execute_input": "2021-04-03T19:21:52.964032Z",
     "iopub.status.busy": "2021-04-03T19:21:52.963364Z",
     "iopub.status.idle": "2021-04-03T19:21:52.988222Z",
     "shell.execute_reply": "2021-04-03T19:21:52.987495Z"
    },
    "papermill": {
     "duration": 0.045756,
     "end_time": "2021-04-03T19:21:52.988377",
     "exception": false,
     "start_time": "2021-04-03T19:21:52.942621",
     "status": "completed"
    },
    "tags": []
   },
   "outputs": [
    {
     "name": "stdout",
     "output_type": "stream",
     "text": [
      "Project Gutenberg's Harper's Round Table, October 8, 1895, by Various\n",
      "\n",
      "This eBook is for the use of anyone anywhere at no cost and with\n",
      "almost no restrictions whatsoever.  You may copy it, give it away or\n",
      "re-use it under the terms of the Project Gutenberg License included\n",
      "with this eBook or online at www.gutenberg.org\n",
      "\n",
      "\n",
      "Title: Harper's Round Table, October 8, 1895\n",
      "\n",
      "Author: Various\n",
      "\n",
      "Release Date: July 14, 2010 [EBook #33158]\n",
      "\n",
      "Language: English\n",
      "\n",
      "Character set encoding: ASCII\n",
      "\n",
      "*** START OF THIS PROJECT GUTENBERG EBOOK HARPER'S ROUND TABLE ***\n",
      "\n",
      "\n",
      "\n",
      "\n",
      "Produced by Annie McGuire\n",
      "\n",
      "\n",
      "\n",
      "\n",
      "\n",
      "\n",
      "\n",
      "\n",
      "[Illustration: HARPER'S ROUND TABLE]\n",
      "\n",
      "Copyright, 1895, by HARPER & BROTHERS. All Rights Reserved.\n",
      "\n",
      "       *       *       *       *       *\n",
      "\n",
      "PUBLISHED WEEKLY. NEW YORK, TUESDAY, OCTOBER 8, 1895. FIVE CENTS A COPY.\n",
      "\n",
      "VOL. XVI.--NO. 832. TWO DOLLARS A YEAR.\n",
      "\n",
      "       *       *       *       *       *\n",
      "\n",
      "\n",
      "\n",
      "\n",
      "[Illustration]\n",
      "\n",
      "THE COPPERTOWN \"STAR\" ROUTE.\n",
      "\n",
      "BY W. G. VAN TASSEL SUTPHEN.\n",
      "\n",
      "\n",
      "The Happy Thought, as will be remembered by those who have read \"The\n",
      "Longmeadow Toll-Gate,\" was a new departure in bicycle construction.\n",
      "Although provided with pedals that could be used in an emergency, its\n",
      "real motive-power was derived from naphtha applied through a pair of\n",
      "cylinders built upon a modification of the hot-air principle, and\n",
      "working directly upon the rear wheel. The oil was admitted drop by drop\n",
      "to the cylinders, mixed with air, and then exploded by a spark from an\n",
      "electric storage battery. The speed was regulated by \n",
      "None\n"
     ]
    }
   ],
   "source": [
    "initial_text = 'harpers_ASCII.txt'\n",
    "eng_text = encoding_tool(initial_text)\n",
    "print(eng_text)"
   ]
  },
  {
   "cell_type": "code",
   "execution_count": 10,
   "id": "biological-driving",
   "metadata": {
    "execution": {
     "iopub.execute_input": "2021-04-03T19:21:53.027762Z",
     "iopub.status.busy": "2021-04-03T19:21:53.027079Z",
     "iopub.status.idle": "2021-04-03T19:21:53.277950Z",
     "shell.execute_reply": "2021-04-03T19:21:53.277283Z"
    },
    "papermill": {
     "duration": 0.272927,
     "end_time": "2021-04-03T19:21:53.278125",
     "exception": false,
     "start_time": "2021-04-03T19:21:53.005198",
     "status": "completed"
    },
    "tags": []
   },
   "outputs": [
    {
     "name": "stdout",
     "output_type": "stream",
     "text": [
      "The Project Gutenberg EBook of Olaf van Geldern, by Pencho Slaveykov\n",
      "(#1 in our series by Pencho Slaveykov, note that #2 is our etext #3433,\n",
      "with a September 2002 release date.)\n",
      "\n",
      "Copyright laws are changing all over the world. Be sure to check the\n",
      "copyright laws for your country before downloading or redistributing\n",
      "this or any other Project Gutenberg eBook.\n",
      "\n",
      "This header should be the first thing seen when viewing this Project\n",
      "Gutenberg file.  Please do not remove it.  Do not change or edit the\n",
      "header without written permission.\n",
      "\n",
      "Please read the \"legal small print,\" and other information about the\n",
      "eBook and Project Gutenberg at the bottom of this file.  Included is\n",
      "important information about your specific rights and restrictions in\n",
      "how the file may be used.  You can also find out about how to make a\n",
      "donation to Project Gutenberg, and how to get involved.\n",
      "\n",
      "\n",
      "**Welcome To The World of Free Plain Vanilla Electronic Texts**\n",
      "\n",
      "**eBooks Readable By Both Humans and By Computers, Since 1971**\n",
      "\n",
      "*****These eBooks Were Prepared By Thousands of Volunteers!*****\n",
      "\n",
      "\n",
      "Title: Olaf van Geldern\n",
      "\n",
      "Author: Pencho Slaveykov\n",
      "\n",
      "Release Date: January, 2004  [EBook #4909]\n",
      "[Yes, we are more than one year ahead of schedule]\n",
      "[This file was first posted on March 24, 2002]\n",
      "\n",
      "Edition: 10\n",
      "\n",
      "Language: Bulgarian\n",
      "\n",
      "Character set encoding: Windows 1251\n",
      "\n",
      "*** START OF THE PROJECT GUTENBERG EBOOK, OLAF VAN GELDERN ***\n",
      "\n",
      "\n",
      "\n",
      "\n",
      "This etext was produced by Snezhina Gileva.\n",
      "\n",
      "\n",
      "\n",
      "ОЛАФ ВАН ГЕЛДЕРН\n",
      "\n",
      "Той и сам не знае кога е роден, но ка\n",
      "None\n"
     ]
    }
   ],
   "source": [
    "initial_text = 'olaf_Windows-1251.txt'\n",
    "bul_text = encoding_tool(initial_text)\n",
    "print(bul_text)"
   ]
  },
  {
   "cell_type": "code",
   "execution_count": 11,
   "id": "ethical-wilderness",
   "metadata": {
    "execution": {
     "iopub.execute_input": "2021-04-03T19:21:53.319199Z",
     "iopub.status.busy": "2021-04-03T19:21:53.318432Z",
     "iopub.status.idle": "2021-04-03T19:21:53.783613Z",
     "shell.execute_reply": "2021-04-03T19:21:53.782767Z"
    },
    "papermill": {
     "duration": 0.48766,
     "end_time": "2021-04-03T19:21:53.783814",
     "exception": false,
     "start_time": "2021-04-03T19:21:53.296154",
     "status": "completed"
    },
    "tags": []
   },
   "outputs": [
    {
     "name": "stdout",
     "output_type": "stream",
     "text": [
      "The Project Gutenberg EBook of Portugal enfermo por vicios, e abusos de\n",
      "ambos os sexos, by José Daniel Rodrigues da Costa\n",
      "\n",
      "This eBook is for the use of anyone anywhere at no cost and with\n",
      "almost no restrictions whatsoever.  You may copy it, give it away or\n",
      "re-use it under the terms of the Project Gutenberg License included\n",
      "with this eBook or online at www.gutenberg.net\n",
      "\n",
      "\n",
      "Title: Portugal enfermo por vicios, e abusos de ambos os sexos\n",
      "\n",
      "Author: José Daniel Rodrigues da Costa\n",
      "\n",
      "Release Date: March 23, 2010 [EBook #31743]\n",
      "\n",
      "Language: Portuguese\n",
      "\n",
      "Character set encoding: ISO-8859-1\n",
      "\n",
      "*** START OF THIS PROJECT GUTENBERG EBOOK PORTUGAL ENFERMO POR VICIOS ***\n",
      "\n",
      "\n",
      "\n",
      "\n",
      "Produced by Pedro Saborano (produced from scanned images\n",
      "of public domain material from Google Book Search)\n",
      "\n",
      "\n",
      "\n",
      "\n",
      "\n",
      "\n",
      "                             PORTUGAL ENFERMO\n",
      "\n",
      "                  POR VICIOS, E ABUSOS DE AMBOS OS SEXOS.\n",
      "\n",
      "                            DEDICADO AO SENHOR\n",
      "\n",
      "                            JOSÉ LUIZ GUERNER,\n",
      "\n",
      "                        CONSUL DE S. M. SICILIANNA,\n",
      "\n",
      "                                   POR\n",
      "\n",
      "                      JOSÉ DANIEL RODRIGUES DA COSTA,\n",
      "\n",
      "                         ENTRE OS PASTORES DO TEJO\n",
      "\n",
      "                             JOSINO LEIRIENSE\n",
      "\n",
      "\n",
      "                                  LISBOA:\n",
      "                            NA IMPRESSÃO REGIA.\n",
      "                                 ANNO 1819\n",
      "\n",
      "                              _Com Licença._\n",
      "\n",
      "\n",
      "\n",
      "\n",
      "SENHOR JOSE LUIZ GUERNER:\n",
      "\n",
      "\n",
      "_Quando comecei a compor esta Obra, intitulada=Portugal Enfermo po\n",
      "None\n"
     ]
    }
   ],
   "source": [
    "initial_text = 'portugal_ISO-8859-1.txt'\n",
    "port_text = encoding_tool(initial_text)\n",
    "print(port_text)"
   ]
  },
  {
   "cell_type": "code",
   "execution_count": 12,
   "id": "surprised-horse",
   "metadata": {
    "execution": {
     "iopub.execute_input": "2021-04-03T19:21:53.825709Z",
     "iopub.status.busy": "2021-04-03T19:21:53.824782Z",
     "iopub.status.idle": "2021-04-03T19:21:53.852942Z",
     "shell.execute_reply": "2021-04-03T19:21:53.852164Z"
    },
    "papermill": {
     "duration": 0.050346,
     "end_time": "2021-04-03T19:21:53.853272",
     "exception": false,
     "start_time": "2021-04-03T19:21:53.802926",
     "status": "completed"
    },
    "tags": []
   },
   "outputs": [
    {
     "name": "stdout",
     "output_type": "stream",
     "text": [
      "The Project Gutenberg EBook of Shisei, by Junichiro Tanizaki\n",
      "\n",
      "This eBook is for the use of anyone anywhere at no cost and with\n",
      "almost no restrictions whatsoever.  You may copy it, give it away or\n",
      "re-use it under the terms of the Project Gutenberg License included\n",
      "with this eBook or online at www.gutenberg.net\n",
      "\n",
      "\n",
      "Title: Shisei\n",
      "\n",
      "Author: Junichiro Tanizaki\n",
      "\n",
      "Release Date: March 13, 2010 [EBook #31617]\n",
      "\n",
      "Language: Japanese\n",
      "\n",
      "Character set encoding: UTF-8\n",
      "\n",
      "*** START OF THIS PROJECT GUTENBERG EBOOK SHISEI ***\n",
      "\n",
      "\n",
      "\n",
      "\n",
      "Produced by Kaoru Tanaka\n",
      "\n",
      "\n",
      "\n",
      "\n",
      "Title: 刺靑 (Shisei)\n",
      "Author: 谷崎潤一郞 (Junichiro Tanizaki)\n",
      "Language: Japanese\n",
      "Character set encoding: UTF-16\n",
      "Text preparation by Kaoru Tanaka\n",
      "\n",
      "-------------------------------------------------------\n",
      "Notes on the signs in the text\n",
      "\n",
      "《...》 shows ruby (short runs of text alongside the base text to indicate pronunciation).\n",
      "Eg. 其《そ》\n",
      "\n",
      "｜ marks the start of a string of ruby-attached characters.\n",
      "Eg. 十三｜年目《ねんめ》\n",
      "\n",
      "［＃...］ explains the formatting of the original text.\n",
      "Eg. ［＃ここから３字下げ］\n",
      "-------------------------------------------------------\n",
      "\n",
      "　刺靑　谷崎潤一郞著\n",
      "\n",
      "\n",
      "　刺靑《しせい》\n",
      "\n",
      "　其《そ》れはまだ人々《ひと／″＼》が「愚《おろか》」と云ふ貴《たうと》い德《とく》を持《も》つて居《ゐ》て、世《よ》の中《なか》が今《いま》のやうに激しく軋《きし》み合《あ》はない時分《じぶん》であつた。殿樣《とのさま》や若旦那《わかだんな》の長閑《のどか》な顏《かほ》が曇《くも》らぬやうに、御殿女中《ごてんぢよちゆう》や華魁《おいらん》の笑《わらひ》の種《たね》が盡《つ》きぬやうにと、饒舌《ぜうぜつ》を賣《う》るお茶坊主《ちやばうず》だの幇間《はうかん》だのと云《い》ふ職業《しよくげふ》が、立派《りつぱ》に存在《そんざい》して行《ゆ》けた程《ほど》、世間《せけん》がのんびり［＃「のんびり」に傍点］して居《ゐ》た時分《じぶん》であつた。女《をんな》定《さだ》九｜郞《らう》、女《をんな》自雷也《じらいや》、女《をんな》鳴神《なるかみ》――當時《たうじ》の芝居《しばゐ》でも草雙紙《くさざうし》でも、すべて美《うつく》\n",
      "None\n"
     ]
    }
   ],
   "source": [
    "initial_text = 'shisei_UTF-8.txt'\n",
    "jap_text = encoding_tool(initial_text)\n",
    "print(jap_text)"
   ]
  },
  {
   "cell_type": "code",
   "execution_count": 13,
   "id": "severe-traveler",
   "metadata": {
    "execution": {
     "iopub.execute_input": "2021-04-03T19:21:53.897737Z",
     "iopub.status.busy": "2021-04-03T19:21:53.896835Z",
     "iopub.status.idle": "2021-04-03T19:21:54.221586Z",
     "shell.execute_reply": "2021-04-03T19:21:54.220997Z"
    },
    "papermill": {
     "duration": 0.348324,
     "end_time": "2021-04-03T19:21:54.221748",
     "exception": false,
     "start_time": "2021-04-03T19:21:53.873424",
     "status": "completed"
    },
    "tags": []
   },
   "outputs": [
    {
     "name": "stdout",
     "output_type": "stream",
     "text": [
      "The Project Gutenberg EBook of Yan shi jia xun, by Yan Zhitui\n",
      "#4 in our series by Yan Zhitui\n",
      "\n",
      "Copyright laws are changing all over the world. Be sure to check the\n",
      "copyright laws for your country before downloading or redistributing\n",
      "this or any other Project Gutenberg eBook.\n",
      "\n",
      "This header should be the first thing seen when viewing this Project\n",
      "Gutenberg file.  Please do not remove it.  Do not change or edit the\n",
      "header without written permission.\n",
      "\n",
      "Please read the \"legal small print,\" and other information about the\n",
      "eBook and Project Gutenberg at the bottom of this file.  Included is\n",
      "important information about your specific rights and restrictions in\n",
      "how the file may be used.  You can also find out about how to make a\n",
      "donation to Project Gutenberg, and how to get involved.\n",
      "\n",
      "\n",
      "**Welcome To The World of Free Plain Vanilla Electronic Texts**\n",
      "\n",
      "**eBooks Readable By Both Humans and By Computers, Since 1971**\n",
      "\n",
      "*****These eBooks Were Prepared By Thousands of Volunteers!*****\n",
      "\n",
      "\n",
      "Title: Yan shi jia xun\n",
      "       Volume 7\n",
      "\n",
      "Author: Yan Zhitui\n",
      "\n",
      "Release Date: February, 2005 [EBook #7457]\n",
      "[Yes, we are more than one year ahead of schedule]\n",
      "[This file was first posted on May 3, 2003]\n",
      "\n",
      "Edition: 10\n",
      "\n",
      "Language: Chinese\n",
      "\n",
      "Character set encoding: BIG-5\n",
      "\n",
      "*** START OF THE PROJECT GUTENBERG EBOOK YAN SHI JIA XUN ***\n",
      "\n",
      "\n",
      "\n",
      "\n",
      "Produced by Chingyi Chen\n",
      "\n",
      "\n",
      "\n",
      "\n",
      "顏是家訓  北齊  顏之推\n",
      "\n",
      "卷第七　音辭　雜藝　終制\n",
      "\n",
      "音辭第十八\n",
      "\n",
      "    夫九州之人，言語不同，生民已來，固常然矣。自《春秋》標齊言之\n",
      "傳，〈離騷〉目楚詞之經，此蓋其較明之初也。後有揚雄著《方言》，其\n",
      "言大備。然皆考名物之同異，不顯聲讀之是非也。逮鄭玄注六經，高誘解\n",
      "《呂覽》、《淮南》，許慎造《說文》，劉熹製《釋名》，\n",
      "None\n"
     ]
    }
   ],
   "source": [
    "initial_text = 'yan_BIG-5.txt'\n",
    "chi_text = encoding_tool(initial_text)\n",
    "print(chi_text)"
   ]
  },
  {
   "cell_type": "code",
   "execution_count": null,
   "id": "important-heating",
   "metadata": {
    "papermill": {
     "duration": 0.019605,
     "end_time": "2021-04-03T19:21:54.260256",
     "exception": false,
     "start_time": "2021-04-03T19:21:54.240651",
     "status": "completed"
    },
    "tags": []
   },
   "outputs": [],
   "source": []
  }
 ],
 "metadata": {
  "kernelspec": {
   "display_name": "Python 3",
   "language": "python",
   "name": "python3"
  },
  "language_info": {
   "codemirror_mode": {
    "name": "ipython",
    "version": 3
   },
   "file_extension": ".py",
   "mimetype": "text/x-python",
   "name": "python",
   "nbconvert_exporter": "python",
   "pygments_lexer": "ipython3",
   "version": "3.7.9"
  },
  "papermill": {
   "default_parameters": {},
   "duration": 10.553754,
   "end_time": "2021-04-03T19:21:54.891031",
   "environment_variables": {},
   "exception": null,
   "input_path": "__notebook__.ipynb",
   "output_path": "__notebook__.ipynb",
   "parameters": {},
   "start_time": "2021-04-03T19:21:44.337277",
   "version": "2.3.2"
  }
 },
 "nbformat": 4,
 "nbformat_minor": 5
}
